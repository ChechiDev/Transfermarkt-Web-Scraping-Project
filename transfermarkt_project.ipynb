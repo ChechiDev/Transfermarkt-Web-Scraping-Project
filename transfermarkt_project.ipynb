{
 "cells": [
  {
   "cell_type": "markdown",
   "id": "8c6376d2",
   "metadata": {},
   "source": [
    "# <u>Transfermarkt Web Scrapping Project</u>\n",
    "## *Descripción del proyecto*\n",
    "\n",
    "Este proyecto tiene un propósito totalmente **educativo y personal**, sin ningún fin lucrativo.  \n",
    "Se realizará un proceso completo de scraping de datos desde la web de [Transfermarkt](https://www.transfermarkt.es/), seguido de un almacenamiento estructurado en base de datos PostgreSQL y un análisis posterior utilizando Python.\n",
    "\n",
    "El proyecto estará estructurado de manera **profesional** usando:\n",
    "\n",
    "- **Programación Orientada a Objetos (POO) con Python**\n",
    "- **Jupyter Notebooks**\n",
    "- **PostgreSQL** para persistencia de datos\n",
    "\n",
    "## *Objetivos*\n",
    "\n",
    "- **Scraping de Equipos**: Extraer la información de los equipos de la Primera División (LaLiga) para las temporadas seleccionadas.\n",
    "- **Scraping de Jugadores**: Obtener datos individuales de los jugadores de cada equipo.\n",
    "- **Scraping de Estadísticas**: Recolectar las estadísticas deportivas principales de cada jugador.\n",
    "- **Almacenamiento**: Guardar toda la información en una base de datos PostgreSQL de manera normalizada.\n",
    "- **Análisis posterior**: Preparar los datos para un futuro ejercicio de Machine Learning o análisis exploratorio.\n",
    "\n",
    "## *Estructura general del Notebook*\n",
    "\n",
    "1. Conexión a la base de datos\n",
    "2. Web Scraping de Equipos\n",
    "3. Web Scraping de Jugadores\n",
    "4. Web Scraping de Estadísticas\n",
    "5. Almacenamiento en PostgreSQL\n",
    "6. Preparación para Análisis\n",
    "\n",
    "---"
   ]
  },
  {
   "cell_type": "markdown",
   "id": "8bc1dc72",
   "metadata": {},
   "source": [
    "### 1. Conexión con la base de datos\n",
    "Antes de iniciar el scraping, es fundamental asegurarnos de que la conexión a la base de datos PostgreSQL funciona correctamente.  \n",
    "Utilizaremos la clase `DatabaseConnection`, que gestiona de forma segura las credenciales almacenadas en el archivo `.env`.\n",
    "\n",
    "En esta celda se instanciará la clase, se establecerá la conexión y posteriormente se cerrará de manera controlada."
   ]
  },
  {
   "cell_type": "code",
   "execution_count": 1,
   "id": "9454d1e7",
   "metadata": {},
   "outputs": [],
   "source": [
    "# Primero instalamos todas las dependencias necesarias para trabajar (si es necesario):\n",
    "# %pip install -r requirements.txt\n"
   ]
  },
  {
   "cell_type": "markdown",
   "id": "7c9bf1e8",
   "metadata": {},
   "source": [
    "### 2. Creación y validación de la base de datos\n",
    "\n",
    " Antes de establecer la conexión con la base de datos, se ha implementado una mejora en la clase `DatabaseConnection`.\n",
    "\n",
    " Al instanciar la clase, el usuario debe **introducir manualmente el nombre de la base de datos** que desea utilizar.\n",
    "\n",
    " El sistema realizará automáticamente los siguientes pasos:\n",
    " \n",
    " - **Si la base de datos ya existe**: Se conecta directamente.\n",
    " - **Si la base de datos no existe**: La crea automáticamente en PostgreSQL y actualiza el archivo `.env` con el nuevo nombre.\n",
    "\n",
    "Esta validación garantiza que trabajemos siempre con una base de datos operativa, evitando errores futuros en el proceso de scraping y almacenamiento de datos."
   ]
  },
  {
   "cell_type": "code",
   "execution_count": 2,
   "id": "573a5138",
   "metadata": {},
   "outputs": [
    {
     "name": "stdout",
     "output_type": "stream",
     "text": [
      "✅ Base de datos 'la_liga' creada correctamente\n",
      "✅ Conexión a la base de datos establecida correctamente.\n",
      "✅ Conexión cerrada\n"
     ]
    }
   ],
   "source": [
    "# Importamos la clase para la conexión\n",
    "from database.db_connection import DatabaseConnection\n",
    "import psycopg2\n",
    "\n",
    "# Creamos una instancia de conexión:\n",
    "db = DatabaseConnection()\n",
    "\n",
    "# Establecemos conexión:\n",
    "db.connect()\n",
    "\n",
    "# Cerramos la conexión:\n",
    "db.disconnect()"
   ]
  }
 ],
 "metadata": {
  "kernelspec": {
   "display_name": ".venv",
   "language": "python",
   "name": "python3"
  },
  "language_info": {
   "codemirror_mode": {
    "name": "ipython",
    "version": 3
   },
   "file_extension": ".py",
   "mimetype": "text/x-python",
   "name": "python",
   "nbconvert_exporter": "python",
   "pygments_lexer": "ipython3",
   "version": "3.13.0"
  }
 },
 "nbformat": 4,
 "nbformat_minor": 5
}
