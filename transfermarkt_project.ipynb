{
 "cells": [
  {
   "cell_type": "markdown",
   "id": "8c6376d2",
   "metadata": {},
   "source": [
    "# <u>Transfermarkt Web Scrapping Project</u>\n",
    "## *Descripción del proyecto*\n",
    "\n",
    "Este proyecto tiene un propósito totalmente **educativo y personal**, sin ningún fin lucrativo.  \n",
    "Se realizará un proceso completo de scraping de datos desde la web de [Transfermarkt](https://www.transfermarkt.es/), seguido de un almacenamiento estructurado en base de datos PostgreSQL y un análisis posterior utilizando Python.\n",
    "\n",
    "El proyecto estará estructurado de manera **profesional** usando:\n",
    "\n",
    "- **Programación Orientada a Objetos (POO) con Python**\n",
    "- **Jupyter Notebooks**\n",
    "- **PostgreSQL** para persistencia de datos\n",
    "\n",
    "## *Objetivos*\n",
    "\n",
    "- **Scraping de Equipos**: Extraer la información de los equipos de la Primera División (LaLiga) para las temporadas seleccionadas.\n",
    "- **Scraping de Jugadores**: Obtener datos individuales de los jugadores de cada equipo.\n",
    "- **Scraping de Estadísticas**: Recolectar las estadísticas deportivas principales de cada jugador.\n",
    "- **Almacenamiento**: Guardar toda la información en una base de datos PostgreSQL de manera normalizada.\n",
    "- **Análisis posterior**: Preparar los datos para un futuro ejercicio de Machine Learning o análisis exploratorio.\n",
    "\n",
    "## *Estructura general del Notebook*\n",
    "\n",
    "1. Conexión a la base de datos\n",
    "2. Web Scraping de Equipos\n",
    "3. Web Scraping de Jugadores\n",
    "4. Web Scraping de Estadísticas\n",
    "5. Almacenamiento en PostgreSQL\n",
    "6. Preparación para Análisis\n",
    "\n",
    "---"
   ]
  },
  {
   "cell_type": "markdown",
   "id": "8bc1dc72",
   "metadata": {},
   "source": [
    "### 1. Conexión con la base de datos\n",
    "Antes de iniciar el scraping, es fundamental asegurarnos de que la conexión a la base de datos PostgreSQL funciona correctamente.  \n",
    "Utilizaremos la clase `DatabaseConnection`, que gestiona de forma segura las credenciales almacenadas en el archivo `.env`.\n",
    "\n",
    "En esta celda se instanciará la clase, se establecerá la conexión y posteriormente se cerrará de manera controlada."
   ]
  },
  {
   "cell_type": "code",
   "execution_count": null,
   "id": "9454d1e7",
   "metadata": {},
   "outputs": [
    {
     "name": "stdout",
     "output_type": "stream",
     "text": [
      "Collecting psycopg2-binary==2.9.9 (from -r requirements.txt (line 5))\n",
      "  Using cached psycopg2-binary-2.9.9.tar.gz (384 kB)\n",
      "  Installing build dependencies: started\n",
      "  Installing build dependencies: finished with status 'done'\n",
      "  Getting requirements to build wheel: started\n",
      "  Getting requirements to build wheel: finished with status 'done'\n",
      "  Preparing metadata (pyproject.toml): started\n",
      "  Preparing metadata (pyproject.toml): finished with status 'done'\n",
      "Collecting SQLAlchemy==2.0.29 (from -r requirements.txt (line 6))\n",
      "  Using cached SQLAlchemy-2.0.29-py3-none-any.whl.metadata (9.6 kB)\n",
      "Collecting python-dotenv==1.0.1 (from -r requirements.txt (line 7))\n",
      "  Using cached python_dotenv-1.0.1-py3-none-any.whl.metadata (23 kB)\n",
      "Collecting requests==2.32.3 (from -r requirements.txt (line 11))\n",
      "  Using cached requests-2.32.3-py3-none-any.whl.metadata (4.6 kB)\n",
      "Collecting beautifulsoup4==4.12.3 (from -r requirements.txt (line 12))\n",
      "  Using cached beautifulsoup4-4.12.3-py3-none-any.whl.metadata (3.8 kB)\n",
      "Collecting lxml==5.2.1 (from -r requirements.txt (line 13))\n",
      "  Using cached lxml-5.2.1.tar.gz (3.7 MB)\n",
      "  Installing build dependencies: started\n",
      "  Installing build dependencies: finished with status 'done'\n",
      "  Getting requirements to build wheel: started\n",
      "  Getting requirements to build wheel: finished with status 'done'\n",
      "  Preparing metadata (pyproject.toml): started\n",
      "  Preparing metadata (pyproject.toml): finished with status 'done'\n",
      "Collecting html5lib==1.1 (from -r requirements.txt (line 14))\n",
      "  Using cached html5lib-1.1-py2.py3-none-any.whl.metadata (16 kB)\n",
      "Note: you may need to restart the kernel to use updated packages.\n"
     ]
    },
    {
     "name": "stderr",
     "output_type": "stream",
     "text": [
      "ERROR: Could not find a version that satisfies the requirement charset-normalizer==4.0.2 (from versions: 0.1a0, 0.1.1a0, 0.1.2b0, 0.1.4b0, 0.1.5b0, 0.1.7, 0.1.8, 0.2.0, 0.2.1, 0.2.2, 0.2.3, 0.3.0, 1.0.0, 1.1.0, 1.1.1, 1.2.0, 1.3.0, 1.3.1, 1.3.2, 1.3.3, 1.3.4, 1.3.5, 1.3.6, 1.3.7, 1.3.8, 1.3.9, 1.4.0, 1.4.1, 2.0.0, 2.0.1, 2.0.2, 2.0.3, 2.0.4, 2.0.5, 2.0.6, 2.0.7, 2.0.8, 2.0.9, 2.0.10, 2.0.11, 2.0.12, 2.1.0, 2.1.1, 3.0.0b1, 3.0.0b2, 3.0.0rc1, 3.0.0, 3.0.1, 3.1.0, 3.2.0, 3.3.0, 3.3.1, 3.3.2, 3.4.0, 3.4.1)\n",
      "ERROR: No matching distribution found for charset-normalizer==4.0.2\n"
     ]
    }
   ],
   "source": [
    "# Primero instalamos todas las dependencias necesarias para trabajar (si es necesario):\n",
    "# %pip install -r requirements.txt\n"
   ]
  },
  {
   "cell_type": "code",
   "execution_count": 3,
   "id": "573a5138",
   "metadata": {},
   "outputs": [
    {
     "name": "stdout",
     "output_type": "stream",
     "text": [
      "✅ Conexión a la base de datos establecida correctamente.\n",
      "Conexión cerrada\n"
     ]
    }
   ],
   "source": [
    "# Importamos la clase para la conexión\n",
    "from database.db_connection import DatabaseConnection\n",
    "import psycopg2\n",
    "\n",
    "# Creamos una instancia de conexión:\n",
    "db = DatabaseConnection()\n",
    "\n",
    "# Establecemos conexión:\n",
    "db.connect()\n",
    "\n",
    "# Cerramos la conexión:\n",
    "db.disconnect()"
   ]
  }
 ],
 "metadata": {
  "kernelspec": {
   "display_name": ".venv",
   "language": "python",
   "name": "python3"
  },
  "language_info": {
   "codemirror_mode": {
    "name": "ipython",
    "version": 3
   },
   "file_extension": ".py",
   "mimetype": "text/x-python",
   "name": "python",
   "nbconvert_exporter": "python",
   "pygments_lexer": "ipython3",
   "version": "3.13.0"
  }
 },
 "nbformat": 4,
 "nbformat_minor": 5
}
