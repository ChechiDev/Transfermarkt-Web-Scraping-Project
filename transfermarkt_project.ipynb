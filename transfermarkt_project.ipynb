{
 "cells": [
  {
   "cell_type": "markdown",
   "id": "8c6376d2",
   "metadata": {},
   "source": [
    "# <u>Transfermarkt Web Scrapping Project</u>\n",
    "## *Descripción del proyecto*\n",
    "\n",
    "Este proyecto tiene un propósito totalmente **educativo y personal**, sin ningún fin lucrativo.  \n",
    "Se realizará un proceso completo de scraping de datos desde la web de [Transfermarkt](https://www.transfermarkt.es/), seguido de un almacenamiento estructurado en base de datos PostgreSQL y un análisis posterior utilizando Python.\n",
    "\n",
    "El proyecto estará estructurado de manera **profesional** usando:\n",
    "\n",
    "- **Programación Orientada a Objetos (POO) con Python**\n",
    "- **Jupyter Notebooks**\n",
    "- **PostgreSQL** para persistencia de datos\n",
    "\n",
    "## *Objetivos*\n",
    "\n",
    "- **Scraping de Equipos**: Extraer la información de los equipos de la Primera División (LaLiga) para las temporadas seleccionadas.\n",
    "- **Scraping de Jugadores**: Obtener datos individuales de los jugadores de cada equipo.\n",
    "- **Scraping de Estadísticas**: Recolectar las estadísticas deportivas principales de cada jugador.\n",
    "- **Almacenamiento**: Guardar toda la información en una base de datos PostgreSQL de manera normalizada.\n",
    "- **Análisis posterior**: Preparar los datos para un futuro ejercicio de Machine Learning o análisis exploratorio.\n",
    "\n",
    "## *Estructura general del Notebook*\n",
    "\n",
    "1. Conexión a la base de datos\n",
    "2. Web Scraping de Equipos\n",
    "3. Web Scraping de Jugadores\n",
    "4. Web Scraping de Estadísticas\n",
    "5. Almacenamiento en PostgreSQL\n",
    "6. Preparación para Análisis\n",
    "\n",
    "---"
   ]
  },
  {
   "cell_type": "markdown",
   "id": "8bc1dc72",
   "metadata": {},
   "source": [
    "### 1. Instalación de dependencias\n",
    "Antes de comenzar, es necesario instalar todas las dependencias requeridas para el correcto funcionamiento del proyecto.\n",
    "Para ello, utilizaremos el archivo requirements.txt, que contiene todas las librerías necesarias."
   ]
  },
  {
   "cell_type": "code",
   "execution_count": null,
   "id": "9454d1e7",
   "metadata": {},
   "outputs": [],
   "source": [
    "# Primero instalamos todas las dependencias necesarias para trabajar (si es necesario):\n",
    "# %pip install -r requirements.txt\n"
   ]
  },
  {
   "cell_type": "markdown",
   "id": "38a4ae68",
   "metadata": {},
   "source": [
    "### 2. Comprobación de configuración\n",
    "\n",
    "A continuación, verificamos que las variables de entorno necesarias se han cargado correctamente desde el archivo `.env`.\n",
    "Esto asegura que los parámetros de conexión (usuario, contraseña, host, puerto y base de datos) están disponibles y configurados antes de proceder.\n",
    "\n",
    "Utilizaremos la clase `EnvironmentConfig` para cargar de forma controlada estas variables."
   ]
  },
  {
   "cell_type": "code",
   "execution_count": null,
   "id": "951a9978",
   "metadata": {},
   "outputs": [],
   "source": [
    "from config.cfg_environment import EnvironmentConfig\n",
    "\n",
    "# Cargamos la configuración:\n",
    "env = EnvironmentConfig()\n",
    "\n",
    "# Accedemos a las variables:\n",
    "print(\n",
    "    f\"User: {env.user}\\n\"\n",
    "    f\"Password: {env.password}\\n\"\n",
    "    f\"Host: {env.host}\\n\"\n",
    "    f\"Port: {env.port}\\n\"\n",
    "    f\"Database: {env.db}\\n\"\n",
    ")"
   ]
  },
  {
   "cell_type": "markdown",
   "id": "7c9bf1e8",
   "metadata": {},
   "source": [
    "### 3. Creación y validación de la base de datos\n",
    "\n",
    "Antes de establecer la conexión con la base de datos, validamos si la base de datos especificada existe en *PostgreSQL*.\n",
    "\n",
    "Para ello, utilizamos la clase `DatabaseCreator`, que realizará los siguientes pasos:\n",
    "\n",
    "- Si la base de datos ya existe: se conecta directamente.\n",
    "\n",
    "- Si la base de datos no existe: se crea automáticamente y se actualiza el archivo .env con el nuevo nombre introducido por el usuario.\n",
    "\n",
    "Esto garantiza que siempre trabajaremos sobre una base de datos válida y actualizada, evitando errores en el proceso de scraping y almacenamiento de datos."
   ]
  },
  {
   "cell_type": "code",
   "execution_count": null,
   "id": "573a5138",
   "metadata": {},
   "outputs": [],
   "source": [
    "from database.db_creator import DatabaseCreator\n",
    "from config.cfg_environment import EnvironmentConfig\n",
    "\n",
    "# Cargamos el entorno:\n",
    "env = EnvironmentConfig()\n",
    "# Instanciamos la clase que crea o valida la base de datos\n",
    "creator = DatabaseCreator(env)"
   ]
  },
  {
   "cell_type": "markdown",
   "id": "10835faf",
   "metadata": {},
   "source": [
    "### 4. Conexión a la base de datos\n",
    "Una vez asegurada la existencia de la base de datos, procedemos a establecer la conexión mediante la clase `DatabaseConnection`.\n",
    "\n",
    "Esta clase gestiona la apertura y el cierre controlado de la conexión a *PostgreSQL* utilizando las variables de entorno previamente cargadas."
   ]
  },
  {
   "cell_type": "code",
   "execution_count": null,
   "id": "50225c91",
   "metadata": {},
   "outputs": [],
   "source": [
    "# Importamos la clase para la conexión\n",
    "from database.db_connection import DatabaseConnection\n",
    "import psycopg2\n",
    "\n",
    "# Creamos una instancia de conexión:\n",
    "db = DatabaseConnection(env)\n",
    "\n",
    "# Establecemos conexión:\n",
    "db.connect()\n",
    "\n",
    "# Cerramos la conexión:\n",
    "db.disconnect()"
   ]
  }
 ],
 "metadata": {
  "kernelspec": {
   "display_name": ".venv",
   "language": "python",
   "name": "python3"
  },
  "language_info": {
   "codemirror_mode": {
    "name": "ipython",
    "version": 3
   },
   "file_extension": ".py",
   "mimetype": "text/x-python",
   "name": "python",
   "nbconvert_exporter": "python",
   "pygments_lexer": "ipython3",
   "version": "3.13.0"
  }
 },
 "nbformat": 4,
 "nbformat_minor": 5
}
